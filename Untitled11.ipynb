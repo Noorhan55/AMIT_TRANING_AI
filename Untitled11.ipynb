{
 "cells": [
  {
   "cell_type": "code",
   "execution_count": null,
   "id": "e4e260ee",
   "metadata": {},
   "outputs": [],
   "source": [
    "st ='Print every word in this sentence that has an even number of letters'\n",
    "for num in st.split(): #to loop into the sentance anduse split to make space\n",
    "    if num[0]=='s': #to make condition over the word that start with s in this ststement\n",
    "\n",
    "        print(num)\n",
    "        "
   ]
  },
  {
   "cell_type": "code",
   "execution_count": null,
   "id": "2c33c65d",
   "metadata": {},
   "outputs": [],
   "source": [
    "\n",
    "x=range(0,11) #use number from 0 to 10\n",
    "for num in x:\n",
    "    if num % 2==0 :\n",
    "        print (num) #print number just even "
   ]
  },
  {
   "cell_type": "code",
   "execution_count": null,
   "id": "4faa7575",
   "metadata": {},
   "outputs": [],
   "source": [
    "    x=range(1,51)\n",
    "    x=list(x)\n",
    "    for y in x:\n",
    "        if y%3==0: \n",
    "            print(y)"
   ]
  },
  {
   "cell_type": "code",
   "execution_count": 3,
   "id": "ba0691ca",
   "metadata": {},
   "outputs": [],
   "source": [
    "st = 'Print every word in this sentence that has an even number of letters'"
   ]
  },
  {
   "cell_type": "code",
   "execution_count": 4,
   "id": "c10df32c",
   "metadata": {},
   "outputs": [
    {
     "name": "stdout",
     "output_type": "stream",
     "text": [
      "no\n",
      "no\n",
      "even\n",
      "even\n",
      "even\n",
      "even\n",
      "even\n",
      "no\n",
      "even\n",
      "even\n",
      "even\n",
      "even\n",
      "no\n"
     ]
    }
   ],
   "source": [
    "for word in st.split(): #make loop over the st statment \n",
    "    if len(word) %2 == 0: #test if number even\n",
    "        print(\"even\")\n",
    "    else:\n",
    "        print(\"no\") "
   ]
  },
  {
   "cell_type": "code",
   "execution_count": null,
   "id": "302adb77",
   "metadata": {},
   "outputs": [],
   "source": [
    "for num in range (1,101): #run over number from 1 to 100\n",
    "    if num % 3 == 0 and num % 5 == 0: #make condition over number that assign two condition \n",
    "        print(\"fizzbuzz\")\n",
    "    elif num%5==0:\n",
    "            print('Buzz')\n",
    "    else:\n",
    "            print(num)"
   ]
  },
  {
   "cell_type": "code",
   "execution_count": null,
   "id": "b8155eba",
   "metadata": {},
   "outputs": [],
   "source": [
    "st ='Create a list of the first letters of every word in this string'\n",
    "list2=[letter[0] for letter in st.split() if st[0]]\n",
    "list2"
   ]
  }
 ],
 "metadata": {
  "kernelspec": {
   "display_name": "Python 3 (ipykernel)",
   "language": "python",
   "name": "python3"
  },
  "language_info": {
   "codemirror_mode": {
    "name": "ipython",
    "version": 3
   },
   "file_extension": ".py",
   "mimetype": "text/x-python",
   "name": "python",
   "nbconvert_exporter": "python",
   "pygments_lexer": "ipython3",
   "version": "3.9.12"
  }
 },
 "nbformat": 4,
 "nbformat_minor": 5
}
