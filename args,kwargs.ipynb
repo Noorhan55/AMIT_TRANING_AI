{
 "cells": [
  {
   "cell_type": "code",
   "execution_count": 3,
   "id": "8390dbbd",
   "metadata": {},
   "outputs": [
    {
     "name": "stdout",
     "output_type": "stream",
     "text": [
      "36\n"
     ]
    }
   ],
   "source": [
    "##Using *args to pass the variable length arguments to the function\n",
    "\n",
    "def sum_num(*args):\n",
    "    result = 0\n",
    "    for x in args:\n",
    "        result+= x\n",
    "    return result\n",
    "print(sum_num(1,2,3,4,5,6,7,8))\n",
    "\n",
    "##In the above program, we used *num as a parameter which allows us \n",
    "##to pass variable length argument list to the adder() function. \n",
    "##Inside the function, we have a loop which adds the passed argument and prints the result.\n",
    "##We passed 3 different tuples with variable length as an argument to the function."
   ]
  },
  {
   "cell_type": "code",
   "execution_count": 10,
   "id": "1b16b087",
   "metadata": {},
   "outputs": [
    {
     "name": "stdout",
     "output_type": "stream",
     "text": [
      " noor ehab  alsayed\n"
     ]
    }
   ],
   "source": [
    "##Using **kwargs to pass the variable keyword arguments to the function \n",
    "\n",
    "def make_sentence(**kwargs):\n",
    "    result = \"\"\n",
    "    for x in kwargs.values():\n",
    "        result +=x\n",
    "    return result\n",
    "\n",
    "print(make_sentence(a=\" noor \",b=\"ehab \",c=\" alsayed\"))\n",
    "\n",
    "##In the above program, we have a function intro() with **data as a parameter. \n",
    "##We passed two dictionaries with variable argument length to the intro() function. We have for loop inside intro()\n",
    "##function which works on the data of passed dictionary and prints the value of the dictionary."
   ]
  },
  {
   "cell_type": "code",
   "execution_count": null,
   "id": "d9b129b1",
   "metadata": {},
   "outputs": [],
   "source": []
  }
 ],
 "metadata": {
  "kernelspec": {
   "display_name": "Python 3 (ipykernel)",
   "language": "python",
   "name": "python3"
  },
  "language_info": {
   "codemirror_mode": {
    "name": "ipython",
    "version": 3
   },
   "file_extension": ".py",
   "mimetype": "text/x-python",
   "name": "python",
   "nbconvert_exporter": "python",
   "pygments_lexer": "ipython3",
   "version": "3.9.12"
  }
 },
 "nbformat": 4,
 "nbformat_minor": 5
}
