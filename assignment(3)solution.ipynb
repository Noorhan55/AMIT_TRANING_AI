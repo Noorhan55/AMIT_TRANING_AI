{
 "cells": [
  {
   "cell_type": "code",
   "execution_count": 111,
   "id": "ce1dbe57",
   "metadata": {},
   "outputs": [
    {
     "name": "stdout",
     "output_type": "stream",
     "text": [
      "2\n"
     ]
    }
   ],
   "source": [
    "### Write a function to count the number 4 in a given list.\n",
    "\n",
    "def list1(elment): # put number in a list\n",
    "  count = 0  \n",
    "  for num in elment: #loop to count\n",
    "    if num == 4:\n",
    "      count = count + 1\n",
    "\n",
    "  return count\n",
    "\n",
    "print(list1([4,6,7,3,4,5,1,2]))\n"
   ]
  },
  {
   "cell_type": "code",
   "execution_count": 96,
   "id": "ad86f6dc",
   "metadata": {},
   "outputs": [
    {
     "name": "stdout",
     "output_type": "stream",
     "text": [
      "True\n",
      "False\n"
     ]
    }
   ],
   "source": [
    "### write a  function to check whether a number is divisible by another number.\n",
    "def mul(a,b):\n",
    "    return True if a%b == 0 else False #condtion \n",
    "\n",
    "print(mul(10,2)) #call function of multiplcation\n",
    "print(mul(8,3))"
   ]
  },
  {
   "cell_type": "code",
   "execution_count": 97,
   "id": "ed629677",
   "metadata": {},
   "outputs": [
    {
     "name": "stdout",
     "output_type": "stream",
     "text": [
      "(10, 1)\n"
     ]
    }
   ],
   "source": [
    "### write a function to find the maximum and minimum numbers from a sequence of number\n",
    "def max_min(numbers):\n",
    "  a = numbers[0]\n",
    "  b = numbers[0]\n",
    "  for num in numbers:\n",
    "    if num> a:\n",
    "      a = num\n",
    "    elif num< b:\n",
    "        b = num\n",
    "  return a, b\n",
    "\n",
    "print(max_min([1,4,6,8,10]))\n"
   ]
  },
  {
   "cell_type": "code",
   "execution_count": 98,
   "id": "5e2d8f2b",
   "metadata": {},
   "outputs": [
    {
     "name": "stdout",
     "output_type": "stream",
     "text": [
      "True\n",
      "None\n"
     ]
    }
   ],
   "source": [
    "### Write a Python function that takes two lists and returns True if they have at least one common member.\n",
    "def compare(list2,list3): # using for statement to check all numbers in list1 and list2\n",
    "\n",
    "    result=False\n",
    "    for x in list2:\n",
    "        for y in list3:\n",
    "            if x==y:  #chick\n",
    "                result=True\n",
    "                return result\n",
    "print(compare([1,2,3,4,5],[1,7,8,9,0])) # call function to compare\n",
    "print(compare([1,2,3,4,5],[6,7,8,9,0]))\n"
   ]
  },
  {
   "cell_type": "code",
   "execution_count": 99,
   "id": "9d4f3a29",
   "metadata": {},
   "outputs": [
    {
     "name": "stdout",
     "output_type": "stream",
     "text": [
      "enter a number to get factorial of it :5\n",
      "x!= 120\n"
     ]
    }
   ],
   "source": [
    "### Write a Python function to calculate the factorial of a number (a non-negative integer). The function accepts the number from the user\n",
    "def factorial(x):\n",
    "    if x == 1: #stop point\n",
    "        return 1\n",
    "    else:\n",
    "        return x * factorial(x-1) \n",
    "x=int(input('enter a number to get factorial of it :')) # user enter number\n",
    "print(\"x!=\",factorial(x))\n"
   ]
  },
  {
   "cell_type": "code",
   "execution_count": 100,
   "id": "337ca5fa",
   "metadata": {},
   "outputs": [
    {
     "name": "stdout",
     "output_type": "stream",
     "text": [
      "is in the range\n",
      "not found\n"
     ]
    }
   ],
   "source": [
    "### Write a Python function to check whether a number is in a given range.The range is from 3 to 11\n",
    "def testing(i):\n",
    "    if i in range(3,12):\n",
    "        print( \"is in the range\")\n",
    "    else :\n",
    "        print(\"not found\")\n",
    "testing(9) #test function\n",
    "testing(15)"
   ]
  },
  {
   "cell_type": "code",
   "execution_count": 9,
   "id": "faae9443",
   "metadata": {},
   "outputs": [
    {
     "name": "stdout",
     "output_type": "stream",
     "text": [
      "Input a number to get it is multiplicatiom table : 5\n",
      "5 x 1 = 5\n",
      "5 x 2 = 10\n",
      "5 x 3 = 15\n",
      "5 x 4 = 20\n",
      "5 x 5 = 25\n",
      "5 x 6 = 30\n",
      "5 x 7 = 35\n",
      "5 x 8 = 40\n",
      "5 x 9 = 45\n",
      "5 x 10 = 50\n"
     ]
    }
   ],
   "source": [
    "### Write a  program to create the multiplication table (from 1 to 10) of a number.\n",
    "f = int(input(\"Input a number to get it is multiplicatiom table : \")) #make user enter any number\n",
    "for i in range(1,11): # for statment for create multiplication table\n",
    "\n",
    "    print(f,'x',i,'=',f*i) # function"
   ]
  },
  {
   "cell_type": "code",
   "execution_count": 90,
   "id": "62f13920",
   "metadata": {},
   "outputs": [
    {
     "data": {
      "text/plain": [
       "2"
      ]
     },
     "execution_count": 90,
     "metadata": {},
     "output_type": "execute_result"
    }
   ],
   "source": [
    "###LESSER OF TWO EVENS: Write a function that returns the lesser of two given numbers if both numbers are even, but returns the greater if one or both numbers are odd\n",
    "##lesser_of_two_evens(2,4) --> 2\n",
    "##lesser_of_two_evens(2,5) --> 5\n",
    "def lesser_of_two_evens(a,b):\n",
    "    if a%2 == 0 and b%2 == 0: # if statement for 2 numbers is even \n",
    "\n",
    "        return min(a,b) # return the minum number when condtion acchive\n",
    "    else:\n",
    "        return max(a,b) # return the largest number when two number or one of them is odd\n",
    "lesser_of_two_evens(2,4)"
   ]
  },
  {
   "cell_type": "code",
   "execution_count": 91,
   "id": "203ab91c",
   "metadata": {},
   "outputs": [
    {
     "data": {
      "text/plain": [
       "5"
      ]
     },
     "execution_count": 91,
     "metadata": {},
     "output_type": "execute_result"
    }
   ],
   "source": [
    "lesser_of_two_evens(2,5)"
   ]
  }
 ],
 "metadata": {
  "kernelspec": {
   "display_name": "Python 3 (ipykernel)",
   "language": "python",
   "name": "python3"
  },
  "language_info": {
   "codemirror_mode": {
    "name": "ipython",
    "version": 3
   },
   "file_extension": ".py",
   "mimetype": "text/x-python",
   "name": "python",
   "nbconvert_exporter": "python",
   "pygments_lexer": "ipython3",
   "version": "3.9.12"
  }
 },
 "nbformat": 4,
 "nbformat_minor": 5
}
