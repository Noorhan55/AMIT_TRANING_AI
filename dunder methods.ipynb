{
 "cells": [
  {
   "cell_type": "code",
   "execution_count": 6,
   "id": "e943d23a",
   "metadata": {},
   "outputs": [
    {
     "name": "stdout",
     "output_type": "stream",
     "text": [
      "3\n"
     ]
    }
   ],
   "source": [
    "##len method\n",
    "class order:\n",
    "    def __init__(self,cart,customer):\n",
    "        self.cart=cart\n",
    "        self.customer = customer\n",
    "        \n",
    "        \n",
    "    def __len__(self):\n",
    "        return len(self.cart)\n",
    "order= order([\"laaptop\",\"mouse\",\"monitor\"],\"noorhan\")\n",
    "print (len(order))"
   ]
  },
  {
   "cell_type": "code",
   "execution_count": 9,
   "id": "e47e59e1",
   "metadata": {},
   "outputs": [
    {
     "name": "stdout",
     "output_type": "stream",
     "text": [
      "noorhan\n"
     ]
    }
   ],
   "source": [
    "##call method\n",
    "class order:\n",
    "    def __init__(self,cart,customer):\n",
    "        self.cart=cart\n",
    "        self.customer = customer\n",
    "    \n",
    "    def __call__(self):\n",
    "        print(f\"{self.customer}\")\n",
    "        \n",
    "order= order([\"laaptop\",\"mouse\",\"monitor\"],\"noorhan\")\n",
    "order()"
   ]
  },
  {
   "cell_type": "code",
   "execution_count": 11,
   "id": "16e36c3c",
   "metadata": {},
   "outputs": [
    {
     "name": "stdout",
     "output_type": "stream",
     "text": [
      "noorhan bought ['laaptop', 'mouse', 'monitor']\n"
     ]
    }
   ],
   "source": [
    "##str method\n",
    "class order:\n",
    "    def __init__(self,cart,customer):\n",
    "        self.cart=cart\n",
    "        self.customer = customer\n",
    "    \n",
    "    def __str__(self):\n",
    "        return f\"{self.customer} bought {self.cart}\"\n",
    "        \n",
    "order= order([\"laaptop\",\"mouse\",\"monitor\"],\"noorhan\")\n",
    "print(order)"
   ]
  },
  {
   "cell_type": "code",
   "execution_count": 15,
   "id": "e5eb3c53",
   "metadata": {},
   "outputs": [
    {
     "name": "stdout",
     "output_type": "stream",
     "text": [
      "True\n"
     ]
    }
   ],
   "source": [
    "##bool method\n",
    "class order:\n",
    "    def __init__(self,cart,customer):\n",
    "        self.cart=cart\n",
    "        self.customer = customer\n",
    "        \n",
    "    def __bool__(self):\n",
    "        return len(self.cart)>0\n",
    "        \n",
    "order= order([\"laaptop\",\"mouse\",\"monitor\"],\"noorhan\")\n",
    "print(bool(order))"
   ]
  },
  {
   "cell_type": "code",
   "execution_count": 25,
   "id": "99c99998",
   "metadata": {},
   "outputs": [
    {
     "name": "stdout",
     "output_type": "stream",
     "text": [
      "person(noorhannoorhannoorhannoorhan)\n"
     ]
    }
   ],
   "source": [
    "##mul method\n",
    "class person:\n",
    "    def __init__(self,name):\n",
    "        self.name=name\n",
    "        \n",
    "    def __repr__(self):\n",
    "        return f\"person({self.name})\"\n",
    "                 \n",
    "    def __mul__(self,x):\n",
    "        if type(x) is not int:\n",
    "            raise Exception(\"invalid argument , must be int\")\n",
    "            \n",
    "        self.name = self.name * x\n",
    "    \n",
    "p= person(\"noorhan\")\n",
    "p*4\n",
    "print(p)"
   ]
  },
  {
   "cell_type": "code",
   "execution_count": 33,
   "id": "21c8708d",
   "metadata": {},
   "outputs": [
    {
     "name": "stdout",
     "output_type": "stream",
     "text": [
      "queue(1)\n"
     ]
    }
   ],
   "source": [
    "class queue(q):\n",
    "    \n",
    "    def __repr__(self):\n",
    "        return f\"queue({self.qsize()})\"\n",
    "                 \n",
    "    def __add__(self,item):\n",
    "        self.put(item)\n",
    "        \n",
    "qu= queue()\n",
    "qu+9\n",
    "qu+7\n",
    "qu\n",
    "print(p)"
   ]
  }
 ],
 "metadata": {
  "kernelspec": {
   "display_name": "Python 3 (ipykernel)",
   "language": "python",
   "name": "python3"
  },
  "language_info": {
   "codemirror_mode": {
    "name": "ipython",
    "version": 3
   },
   "file_extension": ".py",
   "mimetype": "text/x-python",
   "name": "python",
   "nbconvert_exporter": "python",
   "pygments_lexer": "ipython3",
   "version": "3.9.12"
  }
 },
 "nbformat": 4,
 "nbformat_minor": 5
}
