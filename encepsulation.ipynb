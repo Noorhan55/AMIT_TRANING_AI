{
 "cells": [
  {
   "cell_type": "code",
   "execution_count": 1,
   "id": "0ab96829",
   "metadata": {},
   "outputs": [
    {
     "name": "stdout",
     "output_type": "stream",
     "text": [
      "5\n",
      "3\n"
     ]
    },
    {
     "ename": "AttributeError",
     "evalue": "'rectangle' object has no attribute 'length'",
     "output_type": "error",
     "traceback": [
      "\u001b[1;31m---------------------------------------------------------------------------\u001b[0m",
      "\u001b[1;31mAttributeError\u001b[0m                            Traceback (most recent call last)",
      "Input \u001b[1;32mIn [1]\u001b[0m, in \u001b[0;36m<cell line: 12>\u001b[1;34m()\u001b[0m\n\u001b[0;32m      9\u001b[0m         \u001b[38;5;28mprint\u001b[39m(\u001b[38;5;28mself\u001b[39m\u001b[38;5;241m.\u001b[39m__breadth)\n\u001b[0;32m     11\u001b[0m rec \u001b[38;5;241m=\u001b[39m rectangle()\n\u001b[1;32m---> 12\u001b[0m \u001b[38;5;28mprint\u001b[39m(\u001b[43mrec\u001b[49m\u001b[38;5;241;43m.\u001b[39;49m\u001b[43mlength\u001b[49m)\n\u001b[0;32m     13\u001b[0m \u001b[38;5;28mprint\u001b[39m(rec\u001b[38;5;241m.\u001b[39mbreadth)\n",
      "\u001b[1;31mAttributeError\u001b[0m: 'rectangle' object has no attribute 'length'"
     ]
    }
   ],
   "source": [
    "class rectangle:\n",
    "    __length = 0 #PRIVATE VIRIABLE\n",
    "    __breadth = 0 #PRIVATE VIRIABLE\n",
    "    def __init__(self):\n",
    "        #CONSTRUCTOR\n",
    "        self.__length =5\n",
    "        self.__breadth=3\n",
    "        #PRINTING VALUES OF THE PRIVATE VALUE\n",
    "        print(self.__length)\n",
    "        print(self.__breadth)\n",
    "        \n",
    "rec = rectangle() #OBJECT CREATED FOR THE\n",
    "#PRINTING VALUES OF THE PRIVATE VARIABLE\n",
    "print(rec.length)\n",
    "print(rec.breadth)"
   ]
  },
  {
   "cell_type": "code",
   "execution_count": 4,
   "id": "7cd7fe6a",
   "metadata": {},
   "outputs": [
    {
     "name": "stdout",
     "output_type": "stream",
     "text": [
      "10\n",
      "20\n"
     ]
    },
    {
     "ename": "AttributeError",
     "evalue": "'Circle' object has no attribute 'length'",
     "output_type": "error",
     "traceback": [
      "\u001b[1;31m---------------------------------------------------------------------------\u001b[0m",
      "\u001b[1;31mAttributeError\u001b[0m                            Traceback (most recent call last)",
      "Input \u001b[1;32mIn [4]\u001b[0m, in \u001b[0;36m<cell line: 11>\u001b[1;34m()\u001b[0m\n\u001b[0;32m      8\u001b[0m         \u001b[38;5;28mprint\u001b[39m(\u001b[38;5;28mself\u001b[39m\u001b[38;5;241m.\u001b[39m_breadth)\n\u001b[0;32m     10\u001b[0m cr \u001b[38;5;241m=\u001b[39m Circle()\n\u001b[1;32m---> 11\u001b[0m \u001b[38;5;28mprint\u001b[39m(\u001b[43mcr\u001b[49m\u001b[38;5;241;43m.\u001b[39;49m\u001b[43mlength\u001b[49m)\n\u001b[0;32m     12\u001b[0m \u001b[38;5;28mprint\u001b[39m(cr\u001b[38;5;241m.\u001b[39mbreadth)\n",
      "\u001b[1;31mAttributeError\u001b[0m: 'Circle' object has no attribute 'length'"
     ]
    }
   ],
   "source": [
    "class shape: # PROTECTED VARIABLE\n",
    "    _length = 10\n",
    "    _breadth = 20\n",
    "class Circle(shape):\n",
    "    def __init__(self):\n",
    "        # PRINTING PROTECTED VARIABLE\n",
    "        print(self._length)\n",
    "        print(self._breadth)\n",
    "        \n",
    "cr = Circle()\n",
    "# PRINTING PROTECTED VARIABLELESOUS\n",
    "print(cr.length)\n",
    "print(cr.breadth)"
   ]
  }
 ],
 "metadata": {
  "kernelspec": {
   "display_name": "Python 3 (ipykernel)",
   "language": "python",
   "name": "python3"
  },
  "language_info": {
   "codemirror_mode": {
    "name": "ipython",
    "version": 3
   },
   "file_extension": ".py",
   "mimetype": "text/x-python",
   "name": "python",
   "nbconvert_exporter": "python",
   "pygments_lexer": "ipython3",
   "version": "3.9.12"
  }
 },
 "nbformat": 4,
 "nbformat_minor": 5
}
