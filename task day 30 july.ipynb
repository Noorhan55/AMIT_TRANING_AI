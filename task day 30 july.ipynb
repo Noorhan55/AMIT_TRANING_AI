{
 "cells": [
  {
   "cell_type": "code",
   "execution_count": 7,
   "id": "e8828ba9",
   "metadata": {},
   "outputs": [
    {
     "name": "stdout",
     "output_type": "stream",
     "text": [
      "enter your first name noorhan\n",
      "enter your last name ehab\n",
      "enter your  gener    famele\n",
      "your id with three number    123\n"
     ]
    }
   ],
   "source": [
    "x=input(\"enter your first name\")\n",
    "y=input(\"enter your last name\")\n",
    "c=input(\"enter your  gener\")\n",
    "D=(input(\"your id with three number\"))"
   ]
  },
  {
   "cell_type": "code",
   "execution_count": 8,
   "id": "715c9cca",
   "metadata": {},
   "outputs": [
    {
     "name": "stdout",
     "output_type": "stream",
     "text": [
      " noorhan ehab    famele    123\n"
     ]
    }
   ],
   "source": [
    "f= open(\"test.txt\",\"w\") \n",
    "f.write(x) \n",
    "f.write(y) \n",
    "f.write(c) \n",
    "f.write(D) \n",
    "\n",
    "f= open(\"test.txt\",\"r\")\n",
    "print(f.read())\n",
    "f.close()"
   ]
  }
 ],
 "metadata": {
  "kernelspec": {
   "display_name": "Python 3 (ipykernel)",
   "language": "python",
   "name": "python3"
  },
  "language_info": {
   "codemirror_mode": {
    "name": "ipython",
    "version": 3
   },
   "file_extension": ".py",
   "mimetype": "text/x-python",
   "name": "python",
   "nbconvert_exporter": "python",
   "pygments_lexer": "ipython3",
   "version": "3.9.12"
  }
 },
 "nbformat": 4,
 "nbformat_minor": 5
}
