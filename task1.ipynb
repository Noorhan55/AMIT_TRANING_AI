{
 "cells": [
  {
   "cell_type": "code",
   "execution_count": 20,
   "id": "a407aa51",
   "metadata": {},
   "outputs": [
    {
     "name": "stdout",
     "output_type": "stream",
     "text": [
      "enter first and secund number5   5\n",
      "sum 10\n"
     ]
    }
   ],
   "source": [
    "x,y=input('enter first and secund number').split()  #tomake user enter two number\n",
    "z=int(x)+int(y)  #make number as integer then so sum operation\n",
    "print('sum',z) #to show result\n"
   ]
  },
  {
   "cell_type": "code",
   "execution_count": null,
   "id": "89fa1484",
   "metadata": {},
   "outputs": [],
   "source": []
  }
 ],
 "metadata": {
  "kernelspec": {
   "display_name": "Python 3 (ipykernel)",
   "language": "python",
   "name": "python3"
  },
  "language_info": {
   "codemirror_mode": {
    "name": "ipython",
    "version": 3
   },
   "file_extension": ".py",
   "mimetype": "text/x-python",
   "name": "python",
   "nbconvert_exporter": "python",
   "pygments_lexer": "ipython3",
   "version": "3.9.12"
  }
 },
 "nbformat": 4,
 "nbformat_minor": 5
}
